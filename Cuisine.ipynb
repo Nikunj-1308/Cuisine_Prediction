{
  "nbformat": 4,
  "nbformat_minor": 0,
  "metadata": {
    "colab": {
      "name": "Cuisine.ipynb",
      "provenance": [],
      "include_colab_link": true
    },
    "kernelspec": {
      "name": "python3",
      "display_name": "Python 3"
    },
    "accelerator": "GPU"
  },
  "cells": [
    {
      "cell_type": "markdown",
      "metadata": {
        "id": "view-in-github",
        "colab_type": "text"
      },
      "source": [
        "<a href=\"https://colab.research.google.com/github/Nikunj-1308/Cuisine_Prediction/blob/master/Cuisine.ipynb\" target=\"_parent\"><img src=\"https://colab.research.google.com/assets/colab-badge.svg\" alt=\"Open In Colab\"/></a>"
      ]
    },
    {
      "cell_type": "markdown",
      "metadata": {
        "id": "8e-dR_CCN28J",
        "colab_type": "text"
      },
      "source": [
        "# Cuisine Prediction"
      ]
    },
    {
      "cell_type": "markdown",
      "metadata": {
        "id": "nkDNQwWzPO4R",
        "colab_type": "text"
      },
      "source": [
        "## **Importing the required Libraries**"
      ]
    },
    {
      "cell_type": "code",
      "metadata": {
        "id": "beX-B5IzPJJE",
        "colab_type": "code",
        "colab": {}
      },
      "source": [
        "from sklearn.feature_extraction.text import TfidfVectorizer\n",
        "from sklearn.multiclass import OneVsRestClassifier\n",
        "from sklearn.preprocessing import LabelEncoder\n",
        "from sklearn.svm import SVC\n",
        "import pandas as pd\n",
        "import numpy as np\n",
        "import json\n"
      ],
      "execution_count": 0,
      "outputs": []
    },
    {
      "cell_type": "markdown",
      "metadata": {
        "id": "wqAKGv6mOjGQ",
        "colab_type": "text"
      },
      "source": [
        "## Importing Dataset from Google Drive"
      ]
    },
    {
      "cell_type": "code",
      "metadata": {
        "id": "FpwHQOm3EouZ",
        "colab_type": "code",
        "colab": {}
      },
      "source": [
        "from google.colab import drive\n",
        "drive.mount('/content/drive')\n"
      ],
      "execution_count": 0,
      "outputs": []
    },
    {
      "cell_type": "code",
      "metadata": {
        "id": "GZHe0yFJMNR5",
        "colab_type": "code",
        "colab": {}
      },
      "source": [
        "train = json.load(open('/content/drive/My Drive/Cuisine Prediction/train.json'))\n",
        "test = json.load(open('/content/drive/My Drive/Cuisine Prediction/test.json'))"
      ],
      "execution_count": 0,
      "outputs": []
    },
    {
      "cell_type": "markdown",
      "metadata": {
        "id": "avUHtWkvQUU4",
        "colab_type": "text"
      },
      "source": [
        "## Preparing Data for Training & Testing"
      ]
    },
    {
      "cell_type": "code",
      "metadata": {
        "id": "YyslylsyQjBH",
        "colab_type": "code",
        "colab": {}
      },
      "source": [
        "def generate_text(data):\n",
        "\ttext_data = [\" \".join(doc['ingredients']).lower() for doc in data]\n",
        "\treturn text_data \n",
        "\n",
        "train_text = generate_text(train)\n",
        "test_text = generate_text(test)\n",
        "target = [doc['cuisine'] for doc in train]"
      ],
      "execution_count": 0,
      "outputs": []
    },
    {
      "cell_type": "code",
      "metadata": {
        "id": "QhkT99lOS2Mq",
        "colab_type": "code",
        "colab": {}
      },
      "source": [
        "print(target)\n",
        "print(train_text[1])   \n",
        "print(test_text[2])"
      ],
      "execution_count": 0,
      "outputs": []
    },
    {
      "cell_type": "markdown",
      "metadata": {
        "id": "0gV-HUBOysrL",
        "colab_type": "text"
      },
      "source": [
        "## **Feature Engineering**"
      ]
    },
    {
      "cell_type": "code",
      "metadata": {
        "id": "plPntJU7y4cJ",
        "colab_type": "code",
        "colab": {}
      },
      "source": [
        "tfidf = TfidfVectorizer(binary=True)\n",
        "def tfidf_features(txt, flag):\n",
        "    if flag == \"train\":\n",
        "    \tx = tfidf.fit_transform(txt)\n",
        "    else:\n",
        "\t    x = tfidf.transform(txt)\n",
        "    x = x.astype('float16')\n",
        "    return x \n",
        "X = tfidf_features(train_text, flag=\"train\")\n",
        "X_test = tfidf_features(test_text, flag=\"test\")"
      ],
      "execution_count": 0,
      "outputs": []
    },
    {
      "cell_type": "markdown",
      "metadata": {
        "id": "Cx2XScY4zBkV",
        "colab_type": "text"
      },
      "source": [
        "## **Target Label Encoding**"
      ]
    },
    {
      "cell_type": "code",
      "metadata": {
        "id": "_49JWVd5zCCn",
        "colab_type": "code",
        "colab": {}
      },
      "source": [
        "print (\"Label Encode the Target Variable ... \")\n",
        "lb = LabelEncoder()\n",
        "y = lb.fit_transform(target)\n"
      ],
      "execution_count": 0,
      "outputs": []
    },
    {
      "cell_type": "markdown",
      "metadata": {
        "id": "MCSo9pmZzKbv",
        "colab_type": "text"
      },
      "source": [
        "## **Training the Model**"
      ]
    },
    {
      "cell_type": "code",
      "metadata": {
        "id": "HELC21bTzQKA",
        "colab_type": "code",
        "colab": {}
      },
      "source": [
        "classifier = SVC(C=100, # penalty parameter\n",
        "\t \t\t\t kernel='rbf', # kernel type, rbf working fine here (radial basis function)\n",
        "\t \t\t\t degree=3, # default value\n",
        "\t \t\t\t gamma=1, # kernel coefficient\n",
        "\t \t\t\t coef0=1, # change to 1 from default value of 0.0\n",
        "\t \t\t\t shrinking=True, # using shrinking heuristics\n",
        "\t \t\t\t tol=0.001, # stopping criterion tolerance \n",
        "\t      \t\t probability=False, # no need to enable probability estimates\n",
        "\t      \t\t cache_size=200, # 200 MB cache size\n",
        "\t      \t\t class_weight=None, # all classes are treated equally \n",
        "\t      \t\t verbose=False, # print the logs \n",
        "\t      \t\t max_iter=-1, # no limit, let it run\n",
        "          \t\t decision_function_shape=None, # will use one vs rest explicitly \n",
        "          \t\t random_state=None)\n",
        "model = OneVsRestClassifier(classifier, n_jobs=4)\n",
        "model.fit(X, y)"
      ],
      "execution_count": 0,
      "outputs": []
    },
    {
      "cell_type": "markdown",
      "metadata": {
        "id": "7H7zltAYzZnL",
        "colab_type": "text"
      },
      "source": [
        "## **Prediction on Test Data**"
      ]
    },
    {
      "cell_type": "code",
      "metadata": {
        "id": "rPCO0Yt3zkTg",
        "colab_type": "code",
        "colab": {}
      },
      "source": [
        "y_test = model.predict(X_test)\n",
        "y_pred = lb.inverse_transform(y_test)"
      ],
      "execution_count": 0,
      "outputs": []
    },
    {
      "cell_type": "markdown",
      "metadata": {
        "id": "iy6--s3bzgb2",
        "colab_type": "text"
      },
      "source": [
        "## **Storing the Output**"
      ]
    },
    {
      "cell_type": "code",
      "metadata": {
        "id": "Pg-iH0nSzlpr",
        "colab_type": "code",
        "colab": {}
      },
      "source": [
        "test_id = [doc['id'] for doc in test]\n",
        "sub = pd.DataFrame({'id': test_id, 'cuisine': y_pred}, columns=['id', 'cuisine'])\n",
        "sub.to_csv('svm_output.csv', index=False)"
      ],
      "execution_count": 0,
      "outputs": []
    }
  ]
}